{
 "cells": [
  {
   "cell_type": "code",
   "execution_count": 1,
   "metadata": {
    "pycharm": {
     "is_executing": false
    }
   },
   "outputs": [],
   "source": [
    "import lib.utils as utils\n",
    "import pandas as pd"
   ]
  },
  {
   "cell_type": "code",
   "execution_count": 2,
   "metadata": {},
   "outputs": [
    {
     "name": "stdout",
     "output_type": "stream",
     "text": [
      "b'fine_label_names'\n",
      "[b'apple', b'aquarium_fish', b'baby', b'bear', b'beaver', b'bed', b'bee', b'beetle', b'bicycle', b'bottle', b'bowl', b'boy', b'bridge', b'bus', b'butterfly', b'camel', b'can', b'castle', b'caterpillar', b'cattle', b'chair', b'chimpanzee', b'clock', b'cloud', b'cockroach', b'couch', b'crab', b'crocodile', b'cup', b'dinosaur', b'dolphin', b'elephant', b'flatfish', b'forest', b'fox', b'girl', b'hamster', b'house', b'kangaroo', b'keyboard', b'lamp', b'lawn_mower', b'leopard', b'lion', b'lizard', b'lobster', b'man', b'maple_tree', b'motorcycle', b'mountain', b'mouse', b'mushroom', b'oak_tree', b'orange', b'orchid', b'otter', b'palm_tree', b'pear', b'pickup_truck', b'pine_tree', b'plain', b'plate', b'poppy', b'porcupine', b'possum', b'rabbit', b'raccoon', b'ray', b'road', b'rocket', b'rose', b'sea', b'seal', b'shark', b'shrew', b'skunk', b'skyscraper', b'snail', b'snake', b'spider', b'squirrel', b'streetcar', b'sunflower', b'sweet_pepper', b'table', b'tank', b'telephone', b'television', b'tiger', b'tractor', b'train', b'trout', b'tulip', b'turtle', b'wardrobe', b'whale', b'willow_tree', b'wolf', b'woman', b'worm']\n",
      "b'coarse_label_names'\n",
      "[b'aquatic_mammals', b'fish', b'flowers', b'food_containers', b'fruit_and_vegetables', b'household_electrical_devices', b'household_furniture', b'insects', b'large_carnivores', b'large_man-made_outdoor_things', b'large_natural_outdoor_scenes', b'large_omnivores_and_herbivores', b'medium_mammals', b'non-insect_invertebrates', b'people', b'reptiles', b'small_mammals', b'trees', b'vehicles_1', b'vehicles_2']\n"
     ]
    }
   ],
   "source": [
    "labels = utils.unpickle('./../../data/cifar-100/cifar-100-python/meta')\n",
    "for key in labels.keys():\n",
    "    print(key)\n",
    "    print(labels[key])"
   ]
  },
  {
   "cell_type": "code",
   "execution_count": 3,
   "metadata": {},
   "outputs": [
    {
     "name": "stdout",
     "output_type": "stream",
     "text": [
      "dict_keys([b'filenames', b'batch_label', b'fine_labels', b'coarse_labels', b'data'])\n"
     ]
    }
   ],
   "source": [
    "sources = [('train', './../../data/cifar-100/cifar-100-python/train'),\n",
    "           ('test', './../../data/cifar-100/cifar-100-python/test')]\n",
    "\n",
    "f = utils.unpickle(sources[0][1])\n",
    "print(f.keys())"
   ]
  },
  {
   "cell_type": "code",
   "execution_count": 4,
   "metadata": {},
   "outputs": [
    {
     "name": "stdout",
     "output_type": "stream",
     "text": [
      "dict_keys([b'filenames', b'batch_label', b'fine_labels', b'coarse_labels', b'data'])\n",
      "dict_keys([b'filenames', b'batch_label', b'fine_labels', b'coarse_labels', b'data'])\n"
     ]
    }
   ],
   "source": [
    "metadata = []\n",
    "\n",
    "for source in sources:\n",
    "    f = utils.unpickle(source[1])\n",
    "    print(f.keys())\n",
    "    for i in range(len(f[b'data'])):\n",
    "        metadata.append([\n",
    "            f[b'filenames'][i].decode('ascii'),\n",
    "            f[b'fine_labels'][i],\n",
    "            labels[b'fine_label_names'][f[b'fine_labels'][i]].decode('ascii'),\n",
    "            f[b'coarse_labels'][i],\n",
    "            labels[b'coarse_label_names'][f[b'coarse_labels'][i]].decode('ascii'),\n",
    "            f[b'data'][i].reshape(3,32,32).transpose(1,2,0),\n",
    "            source[0],\n",
    "            source[1],\n",
    "            i\n",
    "        ])"
   ]
  },
  {
   "cell_type": "code",
   "execution_count": 5,
   "metadata": {},
   "outputs": [
    {
     "data": {
      "text/html": [
       "<div>\n",
       "<style scoped>\n",
       "    .dataframe tbody tr th:only-of-type {\n",
       "        vertical-align: middle;\n",
       "    }\n",
       "\n",
       "    .dataframe tbody tr th {\n",
       "        vertical-align: top;\n",
       "    }\n",
       "\n",
       "    .dataframe thead th {\n",
       "        text-align: right;\n",
       "    }\n",
       "</style>\n",
       "<table border=\"1\" class=\"dataframe\">\n",
       "  <thead>\n",
       "    <tr style=\"text-align: right;\">\n",
       "      <th></th>\n",
       "      <th>filename</th>\n",
       "      <th>fine_label</th>\n",
       "      <th>fine_label_str</th>\n",
       "      <th>coarse_label</th>\n",
       "      <th>coarse_label_str</th>\n",
       "      <th>data</th>\n",
       "      <th>source_name</th>\n",
       "      <th>source_path</th>\n",
       "      <th>source_i</th>\n",
       "    </tr>\n",
       "  </thead>\n",
       "  <tbody>\n",
       "    <tr>\n",
       "      <th>0</th>\n",
       "      <td>bos_taurus_s_000507.png</td>\n",
       "      <td>19</td>\n",
       "      <td>cattle</td>\n",
       "      <td>11</td>\n",
       "      <td>large_omnivores_and_herbivores</td>\n",
       "      <td>[[[255, 255, 255], [255, 255, 255], [255, 255,...</td>\n",
       "      <td>train</td>\n",
       "      <td>./../../data/cifar-100/cifar-100-python/train</td>\n",
       "      <td>0</td>\n",
       "    </tr>\n",
       "    <tr>\n",
       "      <th>1</th>\n",
       "      <td>stegosaurus_s_000125.png</td>\n",
       "      <td>29</td>\n",
       "      <td>dinosaur</td>\n",
       "      <td>15</td>\n",
       "      <td>reptiles</td>\n",
       "      <td>[[[255, 255, 255], [253, 253, 253], [253, 253,...</td>\n",
       "      <td>train</td>\n",
       "      <td>./../../data/cifar-100/cifar-100-python/train</td>\n",
       "      <td>1</td>\n",
       "    </tr>\n",
       "    <tr>\n",
       "      <th>2</th>\n",
       "      <td>mcintosh_s_000643.png</td>\n",
       "      <td>0</td>\n",
       "      <td>apple</td>\n",
       "      <td>4</td>\n",
       "      <td>fruit_and_vegetables</td>\n",
       "      <td>[[[250, 250, 248], [248, 249, 243], [247, 248,...</td>\n",
       "      <td>train</td>\n",
       "      <td>./../../data/cifar-100/cifar-100-python/train</td>\n",
       "      <td>2</td>\n",
       "    </tr>\n",
       "    <tr>\n",
       "      <th>3</th>\n",
       "      <td>altar_boy_s_001435.png</td>\n",
       "      <td>11</td>\n",
       "      <td>boy</td>\n",
       "      <td>14</td>\n",
       "      <td>people</td>\n",
       "      <td>[[[124, 194, 221], [131, 202, 228], [135, 206,...</td>\n",
       "      <td>train</td>\n",
       "      <td>./../../data/cifar-100/cifar-100-python/train</td>\n",
       "      <td>3</td>\n",
       "    </tr>\n",
       "    <tr>\n",
       "      <th>4</th>\n",
       "      <td>cichlid_s_000031.png</td>\n",
       "      <td>1</td>\n",
       "      <td>aquarium_fish</td>\n",
       "      <td>1</td>\n",
       "      <td>fish</td>\n",
       "      <td>[[[43, 49, 46], [32, 40, 34], [87, 89, 47], [1...</td>\n",
       "      <td>train</td>\n",
       "      <td>./../../data/cifar-100/cifar-100-python/train</td>\n",
       "      <td>4</td>\n",
       "    </tr>\n",
       "  </tbody>\n",
       "</table>\n",
       "</div>"
      ],
      "text/plain": [
       "                   filename  fine_label fine_label_str  coarse_label  \\\n",
       "0   bos_taurus_s_000507.png          19         cattle            11   \n",
       "1  stegosaurus_s_000125.png          29       dinosaur            15   \n",
       "2     mcintosh_s_000643.png           0          apple             4   \n",
       "3    altar_boy_s_001435.png          11            boy            14   \n",
       "4      cichlid_s_000031.png           1  aquarium_fish             1   \n",
       "\n",
       "                 coarse_label_str  \\\n",
       "0  large_omnivores_and_herbivores   \n",
       "1                        reptiles   \n",
       "2            fruit_and_vegetables   \n",
       "3                          people   \n",
       "4                            fish   \n",
       "\n",
       "                                                data source_name  \\\n",
       "0  [[[255, 255, 255], [255, 255, 255], [255, 255,...       train   \n",
       "1  [[[255, 255, 255], [253, 253, 253], [253, 253,...       train   \n",
       "2  [[[250, 250, 248], [248, 249, 243], [247, 248,...       train   \n",
       "3  [[[124, 194, 221], [131, 202, 228], [135, 206,...       train   \n",
       "4  [[[43, 49, 46], [32, 40, 34], [87, 89, 47], [1...       train   \n",
       "\n",
       "                                     source_path  source_i  \n",
       "0  ./../../data/cifar-100/cifar-100-python/train         0  \n",
       "1  ./../../data/cifar-100/cifar-100-python/train         1  \n",
       "2  ./../../data/cifar-100/cifar-100-python/train         2  \n",
       "3  ./../../data/cifar-100/cifar-100-python/train         3  \n",
       "4  ./../../data/cifar-100/cifar-100-python/train         4  "
      ]
     },
     "execution_count": 5,
     "metadata": {},
     "output_type": "execute_result"
    }
   ],
   "source": [
    "df = pd.DataFrame(metadata, columns = ['filename',\n",
    "                                       'fine_label',\n",
    "                                       'fine_label_str',\n",
    "                                       'coarse_label',\n",
    "                                       'coarse_label_str',\n",
    "                                       'data',\n",
    "                                       'source_name',\n",
    "                                       'source_path',\n",
    "                                       'source_i'\n",
    "                                      ])\n",
    "df.head()"
   ]
  },
  {
   "cell_type": "code",
   "execution_count": 6,
   "metadata": {},
   "outputs": [],
   "source": [
    "df.to_pickle('./../../data/cifar-100/cifar-100.pkl')"
   ]
  }
 ],
 "metadata": {
  "kernelspec": {
   "display_name": "Python 3",
   "language": "python",
   "name": "python3"
  },
  "language_info": {
   "codemirror_mode": {
    "name": "ipython",
    "version": 3
   },
   "file_extension": ".py",
   "mimetype": "text/x-python",
   "name": "python",
   "nbconvert_exporter": "python",
   "pygments_lexer": "ipython3",
   "version": "3.7.5"
  },
  "pycharm": {
   "stem_cell": {
    "cell_type": "raw",
    "metadata": {
     "collapsed": false
    },
    "source": []
   }
  }
 },
 "nbformat": 4,
 "nbformat_minor": 1
}
