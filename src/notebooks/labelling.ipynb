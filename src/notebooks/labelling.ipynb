{
 "cells": [
  {
   "cell_type": "code",
   "execution_count": 1,
   "metadata": {
    "pycharm": {
     "is_executing": false
    }
   },
   "outputs": [],
   "source": [
    "# !jt -t oceans16 -TN -kl -cellw 90% -ofs 12\n",
    "import lib.utils as utils"
   ]
  },
  {
   "cell_type": "markdown",
   "metadata": {},
   "source": [
    "| Superclass | Classes |\n",
    "|------------------------------:|------------------------------------------------------:|\n",
    "| Acquatic Mammals | beaver, dolphin, otter, seal, whale |\n",
    "| Fish | aquarium fish, flatfish, ray, shark, trout |\n",
    "| Flowers | orchids, poppies, roses, sunflowers, tulips |\n",
    "| Food Containers | bottles, bowls, cans, cups, plates |\n",
    "| Fruit and Vegetables | apples, mushrooms, oranges, pears, sweet peppers |\n",
    "| Household Electrical Devices | clock, computer keyboard, lamp, telephone, television |\n",
    "| Household Furniture | bed, chair, couch, table, wardrobe |\n",
    "| Insects | bee, beetle, butterfly, caterpillar, cockroach |\n",
    "| Large Carnivores | bear, leopard, lion, tiger, wolf |\n",
    "| Large Man-made Outdoor Scenes | bridge, castle, house, road, skyscraper |\n",
    "| Large Natural Outdoor Scenes | cloud, forest, mountain, plain, sea |\n",
    "| Large Omnivores and Herbivoes | camel, cattle, chimpanzee, elephant, kangaroo |\n",
    "| Medium-sized Animals | fox, porcupine, possum, raccoon, skunk |\n",
    "| Non-insect Invertebrates | crab, lobster, snail, spider, worm |\n",
    "| People | baby, boy, girl, man, woman |\n",
    "| Reptiles | crocodile, dinosaur, lizard, snake, turtle |\n",
    "| Small Mammals | hamster, mouse, rabbit, shrew, squirrel |\n",
    "| Trees | maple, oak, palm, pine, willow |\n",
    "| Vehicles 1 | bicycle, bus, motorcycle, pickup truck, train |\n",
    "| Vehicles 2 | lawn-mower, rocket, streetcar, tank, tractor |"
   ]
  },
  {
   "cell_type": "code",
   "execution_count": 2,
   "metadata": {},
   "outputs": [
    {
     "data": {
      "application/vnd.jupyter.widget-view+json": {
       "model_id": "773ec8c21ad84fda80cdd49b19d6cc9a",
       "version_major": 2,
       "version_minor": 0
      },
      "text/plain": [
       "Text(value='', continuous_update=False, description='Name:')"
      ]
     },
     "metadata": {},
     "output_type": "display_data"
    },
    {
     "data": {
      "application/vnd.jupyter.widget-view+json": {
       "model_id": "e3154e125909460dab25deb6fb48f6c8",
       "version_major": 2,
       "version_minor": 0
      },
      "text/plain": [
       "HBox(children=(Button(description='aquatic_mammals', layout=Layout(height='40px', width='220px'), style=Button…"
      ]
     },
     "metadata": {},
     "output_type": "display_data"
    },
    {
     "data": {
      "application/vnd.jupyter.widget-view+json": {
       "model_id": "9d3339a5f85a4fc2b5527aa791493489",
       "version_major": 2,
       "version_minor": 0
      },
      "text/plain": [
       "HBox(children=(Button(description='household_electrical_devices', layout=Layout(height='40px', width='220px'),…"
      ]
     },
     "metadata": {},
     "output_type": "display_data"
    },
    {
     "data": {
      "application/vnd.jupyter.widget-view+json": {
       "model_id": "79fbe3469ae54898b6809f90e991f62a",
       "version_major": 2,
       "version_minor": 0
      },
      "text/plain": [
       "HBox(children=(Button(description='large_natural_outdoor_scenes', layout=Layout(height='40px', width='220px'),…"
      ]
     },
     "metadata": {},
     "output_type": "display_data"
    },
    {
     "data": {
      "application/vnd.jupyter.widget-view+json": {
       "model_id": "8b8fdaa4e5384d2a8344f6bb66dfe162",
       "version_major": 2,
       "version_minor": 0
      },
      "text/plain": [
       "HBox(children=(Button(description='reptiles', layout=Layout(height='40px', width='220px'), style=ButtonStyle(f…"
      ]
     },
     "metadata": {},
     "output_type": "display_data"
    },
    {
     "data": {
      "application/vnd.jupyter.widget-view+json": {
       "model_id": "04e4c6bc08b344738558dd5258e7d059",
       "version_major": 2,
       "version_minor": 0
      },
      "text/plain": [
       "Output()"
      ]
     },
     "metadata": {},
     "output_type": "display_data"
    }
   ],
   "source": [
    "experiment = utils.Experiment()\n",
    "experiment.run()"
   ]
  }
 ],
 "metadata": {
  "kernelspec": {
   "display_name": "Python 3",
   "language": "python",
   "name": "python3"
  },
  "language_info": {
   "codemirror_mode": {
    "name": "ipython",
    "version": 3
   },
   "file_extension": ".py",
   "mimetype": "text/x-python",
   "name": "python",
   "nbconvert_exporter": "python",
   "pygments_lexer": "ipython3",
   "version": "3.7.5"
  }
 },
 "nbformat": 4,
 "nbformat_minor": 1
}
