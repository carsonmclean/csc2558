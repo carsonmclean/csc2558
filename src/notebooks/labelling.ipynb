{
 "cells": [
  {
   "cell_type": "code",
   "execution_count": 1,
   "metadata": {},
   "outputs": [],
   "source": [
    "!jt -t oceans16 -TN -kl -cellw 90%\n",
    "%matplotlib inline\n",
    "\n",
    "import lib.pigeon.pigeon as pigeon\n",
    "import lib.utils\n",
    "\n",
    "import cv2\n",
    "from IPython.display import display, Image\n",
    "import pandas as pd\n",
    "import matplotlib.pyplot as plt\n",
    "\n"
   ]
  },
  {
   "cell_type": "code",
   "execution_count": 2,
   "metadata": {},
   "outputs": [],
   "source": [
    "def get_images():\n",
    "    data = pd.read_pickle('./../../data/cifar-100/cifar-100.pkl')\n",
    "#     print(data.head())\n",
    "    images = data['data']\n",
    "    return images\n",
    "\n",
    "# get_images()"
   ]
  },
  {
   "cell_type": "code",
   "execution_count": 3,
   "metadata": {},
   "outputs": [],
   "source": [
    "def get_labels():\n",
    "    data = pd.read_pickle('./../../data/cifar-100/cifar-100.pkl')\n",
    "    fine_labels = data['fine_label_str'].unique().tolist()\n",
    "    coarse_labels = data['coarse_label_str'].unique().tolist()\n",
    "    \n",
    "    return fine_labels\n",
    "\n",
    "# get_labels()"
   ]
  },
  {
   "cell_type": "code",
   "execution_count": 8,
   "metadata": {},
   "outputs": [],
   "source": [
    "def display_fn(img):\n",
    "    # ctmakro\n",
    "    # https://gist.github.com/ctmakro/3ae3cd9538390b706820cd01dac6861f\n",
    "    _, ret = cv2.imencode('.jpg', img)\n",
    "    i = Image(data=ret)\n",
    "    display(i)"
   ]
  },
  {
   "cell_type": "code",
   "execution_count": 9,
   "metadata": {},
   "outputs": [
    {
     "data": {
      "application/vnd.jupyter.widget-view+json": {
       "model_id": "6760224e29704781903305863b2927e5",
       "version_major": 2,
       "version_minor": 0
      },
      "text/plain": [
       "HTML(value='0 examples annotated, 60001 examples left')"
      ]
     },
     "metadata": {},
     "output_type": "display_data"
    },
    {
     "data": {
      "application/vnd.jupyter.widget-view+json": {
       "model_id": "b31a92ad68bc40ebb09cfb4e0eafa657",
       "version_major": 2,
       "version_minor": 0
      },
      "text/plain": [
       "Dropdown(options=('cattle', 'dinosaur', 'apple', 'boy', 'aquarium_fish', 'telephone', 'train', 'cup', 'cloud',…"
      ]
     },
     "metadata": {},
     "output_type": "display_data"
    },
    {
     "data": {
      "application/vnd.jupyter.widget-view+json": {
       "model_id": "d7d18385fdaf4693b1e2ec48b8219d59",
       "version_major": 2,
       "version_minor": 0
      },
      "text/plain": [
       "HBox(children=(Button(description='submit', style=ButtonStyle()), Button(description='skip', style=ButtonStyle…"
      ]
     },
     "metadata": {},
     "output_type": "display_data"
    },
    {
     "data": {
      "application/vnd.jupyter.widget-view+json": {
       "model_id": "6766bdf9c3b64c50a8ad870ac08211a2",
       "version_major": 2,
       "version_minor": 0
      },
      "text/plain": [
       "Output()"
      ]
     },
     "metadata": {},
     "output_type": "display_data"
    }
   ],
   "source": [
    "annotations = pigeon.annotate(examples=get_images(),\n",
    "                              options=get_labels(),\n",
    "                              shuffle=False,\n",
    "                              include_skip=True,\n",
    "                              display_fn=display_fn)"
   ]
  }
 ],
 "metadata": {
  "kernelspec": {
   "display_name": "Python 3",
   "language": "python",
   "name": "python3"
  },
  "language_info": {
   "codemirror_mode": {
    "name": "ipython",
    "version": 3
   },
   "file_extension": ".py",
   "mimetype": "text/x-python",
   "name": "python",
   "nbconvert_exporter": "python",
   "pygments_lexer": "ipython3",
   "version": "3.7.5"
  }
 },
 "nbformat": 4,
 "nbformat_minor": 1
}
