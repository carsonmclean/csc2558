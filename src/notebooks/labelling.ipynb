{
 "cells": [
  {
   "cell_type": "code",
   "execution_count": 1,
   "metadata": {
    "pycharm": {
     "is_executing": false
    }
   },
   "outputs": [],
   "source": [
    "# !jt -t oceans16 -TN -kl -cellw 90% -ofs 12\n",
    "import lib.utils as utils"
   ]
  },
  {
   "cell_type": "code",
   "execution_count": 2,
   "metadata": {},
   "outputs": [
    {
     "data": {
      "application/vnd.jupyter.widget-view+json": {
       "model_id": "87e33385bf5041569ab25eabfcb4af39",
       "version_major": 2,
       "version_minor": 0
      },
      "text/plain": [
       "Text(value='', continuous_update=False, description='Name:')"
      ]
     },
     "metadata": {},
     "output_type": "display_data"
    },
    {
     "data": {
      "application/vnd.jupyter.widget-view+json": {
       "model_id": "5287125db807417e9d3c2a594ed57017",
       "version_major": 2,
       "version_minor": 0
      },
      "text/plain": [
       "HBox(children=(Button(description='large_omnivores_and_herbivores', style=ButtonStyle()), Button(description='…"
      ]
     },
     "metadata": {},
     "output_type": "display_data"
    },
    {
     "data": {
      "application/vnd.jupyter.widget-view+json": {
       "model_id": "8a71a52ccf1e431ca28d4931bce3192b",
       "version_major": 2,
       "version_minor": 0
      },
      "text/plain": [
       "HBox(children=(Button(description='household_electrical_devices', style=ButtonStyle()), Button(description='ve…"
      ]
     },
     "metadata": {},
     "output_type": "display_data"
    },
    {
     "data": {
      "application/vnd.jupyter.widget-view+json": {
       "model_id": "1963c1c3b57146d39ff3b36423c845c6",
       "version_major": 2,
       "version_minor": 0
      },
      "text/plain": [
       "HBox(children=(Button(description='flowers', style=ButtonStyle()), Button(description='large_man-made_outdoor_…"
      ]
     },
     "metadata": {},
     "output_type": "display_data"
    },
    {
     "data": {
      "application/vnd.jupyter.widget-view+json": {
       "model_id": "3c79163446b5483584cb897b815b899a",
       "version_major": 2,
       "version_minor": 0
      },
      "text/plain": [
       "HBox(children=(Button(description='medium_mammals', style=ButtonStyle()), Button(description='vehicles_2', sty…"
      ]
     },
     "metadata": {},
     "output_type": "display_data"
    },
    {
     "data": {
      "application/vnd.jupyter.widget-view+json": {
       "model_id": "f29322162587462e8accde26adeb4b94",
       "version_major": 2,
       "version_minor": 0
      },
      "text/plain": [
       "Output()"
      ]
     },
     "metadata": {},
     "output_type": "display_data"
    },
    {
     "name": "stdout",
     "output_type": "stream",
     "text": [
      "{'id': 'mus_musculus_s_000005.png', 'truth': 'small_mammals', 'annotation': 'fruit_and_vegetables', 'time': 5.023848056793213, 'volunteer': 'vol1', 'ts': 1578003104.6152074, 'order': 'random'}\n",
      "             annotation                         id   order      time  \\\n",
      "0  fruit_and_vegetables  mus_musculus_s_000005.png  random  5.023848   \n",
      "\n",
      "           truth            ts volunteer  \n",
      "0  small_mammals  1.578003e+09      vol1  \n",
      "{'id': 'bike_s_000682.png', 'truth': 'vehicles_1', 'annotation': 'people', 'time': 3.0321295261383057, 'volunteer': 'vol2', 'ts': 1578003107.6673331, 'order': 'random'}\n",
      "             annotation                         id   order      time  \\\n",
      "0  fruit_and_vegetables  mus_musculus_s_000005.png  random  5.023848   \n",
      "1                people          bike_s_000682.png  random  3.032130   \n",
      "\n",
      "           truth            ts volunteer  \n",
      "0  small_mammals  1.578003e+09      vol1  \n",
      "1     vehicles_1  1.578003e+09      vol2  \n"
     ]
    }
   ],
   "source": [
    "experiment = utils.Experiment()\n",
    "experiment.run()"
   ]
  }
 ],
 "metadata": {
  "kernelspec": {
   "display_name": "Python 3",
   "language": "python",
   "name": "python3"
  },
  "language_info": {
   "codemirror_mode": {
    "name": "ipython",
    "version": 3
   },
   "file_extension": ".py",
   "mimetype": "text/x-python",
   "name": "python",
   "nbconvert_exporter": "python",
   "pygments_lexer": "ipython3",
   "version": "3.7.5"
  }
 },
 "nbformat": 4,
 "nbformat_minor": 1
}
