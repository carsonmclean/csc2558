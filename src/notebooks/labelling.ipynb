{
 "cells": [
  {
   "cell_type": "code",
   "execution_count": 1,
   "metadata": {
    "pycharm": {
     "is_executing": false
    }
   },
   "outputs": [],
   "source": [
    "# !jt -t oceans16 -TN -kl -cellw 90% -ofs 12\n",
    "import lib.utils as utils"
   ]
  },
  {
   "cell_type": "code",
   "execution_count": 2,
   "metadata": {},
   "outputs": [
    {
     "data": {
      "application/vnd.jupyter.widget-view+json": {
       "model_id": "7acae244fb3043019f3894ccf7ba5a1d",
       "version_major": 2,
       "version_minor": 0
      },
      "text/plain": [
       "Text(value='', continuous_update=False, description='Name:')"
      ]
     },
     "metadata": {},
     "output_type": "display_data"
    },
    {
     "data": {
      "application/vnd.jupyter.widget-view+json": {
       "model_id": "9d17437e0e9443e58a527fc3a9679ba2",
       "version_major": 2,
       "version_minor": 0
      },
      "text/plain": [
       "HBox(children=(Button(description='large_omnivores_and_herbivores', style=ButtonStyle()), Button(description='…"
      ]
     },
     "metadata": {},
     "output_type": "display_data"
    },
    {
     "data": {
      "application/vnd.jupyter.widget-view+json": {
       "model_id": "42e084e2a42b4e7e8981ed306ec61d93",
       "version_major": 2,
       "version_minor": 0
      },
      "text/plain": [
       "HBox(children=(Button(description='household_electrical_devices', style=ButtonStyle()), Button(description='ve…"
      ]
     },
     "metadata": {},
     "output_type": "display_data"
    },
    {
     "data": {
      "application/vnd.jupyter.widget-view+json": {
       "model_id": "48146c6a361b4ed78b8c7f2b72647fa3",
       "version_major": 2,
       "version_minor": 0
      },
      "text/plain": [
       "HBox(children=(Button(description='flowers', style=ButtonStyle()), Button(description='large_man-made_outdoor_…"
      ]
     },
     "metadata": {},
     "output_type": "display_data"
    },
    {
     "data": {
      "application/vnd.jupyter.widget-view+json": {
       "model_id": "302bfc9c5c8345c49ea3d2a57e900862",
       "version_major": 2,
       "version_minor": 0
      },
      "text/plain": [
       "HBox(children=(Button(description='medium_mammals', style=ButtonStyle()), Button(description='vehicles_2', sty…"
      ]
     },
     "metadata": {},
     "output_type": "display_data"
    },
    {
     "data": {
      "application/vnd.jupyter.widget-view+json": {
       "model_id": "c1c2e7eefbfa485fa2ceac26d830c002",
       "version_major": 2,
       "version_minor": 0
      },
      "text/plain": [
       "Output()"
      ]
     },
     "metadata": {},
     "output_type": "display_data"
    },
    {
     "name": "stdout",
     "output_type": "stream",
     "text": [
      "{'id': 'keyboard_s_000092.png', 'truth': 'household_electrical_devices', 'annotation': 'reptiles', 'time': 1.8486242294311523, 'volunteer': None, 'ts': 1578009669.5332863, 'order': 'random'}\n",
      "  annotation                     id   order      time  \\\n",
      "0   reptiles  keyboard_s_000092.png  random  1.848624   \n",
      "\n",
      "                          truth            ts volunteer  \n",
      "0  household_electrical_devices  1.578010e+09      None  \n",
      "{'id': 'acer_saccharinum_s_000646.png', 'truth': 'trees', 'annotation': 'reptiles', 'time': 0.5409972667694092, 'volunteer': None, 'ts': 1578009670.0952806, 'order': 'same'}\n",
      "  annotation                             id   order      time  \\\n",
      "0   reptiles          keyboard_s_000092.png  random  1.848624   \n",
      "1   reptiles  acer_saccharinum_s_000646.png    same  0.540997   \n",
      "\n",
      "                          truth            ts volunteer  \n",
      "0  household_electrical_devices  1.578010e+09      None  \n",
      "1                         trees  1.578010e+09      None  \n",
      "Annotations complete!\n"
     ]
    }
   ],
   "source": [
    "experiment = utils.Experiment()\n",
    "experiment.run()"
   ]
  }
 ],
 "metadata": {
  "kernelspec": {
   "display_name": "Python 3",
   "language": "python",
   "name": "python3"
  },
  "language_info": {
   "codemirror_mode": {
    "name": "ipython",
    "version": 3
   },
   "file_extension": ".py",
   "mimetype": "text/x-python",
   "name": "python",
   "nbconvert_exporter": "python",
   "pygments_lexer": "ipython3",
   "version": "3.7.5"
  }
 },
 "nbformat": 4,
 "nbformat_minor": 1
}
