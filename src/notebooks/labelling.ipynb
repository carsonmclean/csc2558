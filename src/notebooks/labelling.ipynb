{
 "cells": [
  {
   "cell_type": "code",
   "execution_count": 1,
   "metadata": {},
   "outputs": [],
   "source": [
    "!jt -t oceans16 -TN -kl -cellw 90% -ofs 12\n",
    "%matplotlib inline\n",
    "\n",
    "import lib.pigeon.pigeon as pigeon\n",
    "import lib.utils\n",
    "\n",
    "import cv2\n",
    "from IPython.display import display, Image\n",
    "import pandas as pd\n",
    "import matplotlib.pyplot as plt\n",
    "\n"
   ]
  },
  {
   "cell_type": "code",
   "execution_count": 2,
   "metadata": {},
   "outputs": [
    {
     "data": {
      "text/html": [
       "<div>\n",
       "<style scoped>\n",
       "    .dataframe tbody tr th:only-of-type {\n",
       "        vertical-align: middle;\n",
       "    }\n",
       "\n",
       "    .dataframe tbody tr th {\n",
       "        vertical-align: top;\n",
       "    }\n",
       "\n",
       "    .dataframe thead th {\n",
       "        text-align: right;\n",
       "    }\n",
       "</style>\n",
       "<table border=\"1\" class=\"dataframe\">\n",
       "  <thead>\n",
       "    <tr style=\"text-align: right;\">\n",
       "      <th></th>\n",
       "      <th>filename</th>\n",
       "      <th>data</th>\n",
       "    </tr>\n",
       "  </thead>\n",
       "  <tbody>\n",
       "    <tr>\n",
       "      <th>0</th>\n",
       "      <td>bos_taurus_s_000507.png</td>\n",
       "      <td>[[[255, 255, 255], [255, 255, 255], [255, 255,...</td>\n",
       "    </tr>\n",
       "    <tr>\n",
       "      <th>1</th>\n",
       "      <td>stegosaurus_s_000125.png</td>\n",
       "      <td>[[[255, 255, 255], [253, 253, 253], [253, 253,...</td>\n",
       "    </tr>\n",
       "    <tr>\n",
       "      <th>2</th>\n",
       "      <td>mcintosh_s_000643.png</td>\n",
       "      <td>[[[250, 250, 248], [248, 249, 243], [247, 248,...</td>\n",
       "    </tr>\n",
       "    <tr>\n",
       "      <th>3</th>\n",
       "      <td>altar_boy_s_001435.png</td>\n",
       "      <td>[[[124, 194, 221], [131, 202, 228], [135, 206,...</td>\n",
       "    </tr>\n",
       "    <tr>\n",
       "      <th>4</th>\n",
       "      <td>cichlid_s_000031.png</td>\n",
       "      <td>[[[43, 49, 46], [32, 40, 34], [87, 89, 47], [1...</td>\n",
       "    </tr>\n",
       "    <tr>\n",
       "      <th>...</th>\n",
       "      <td>...</td>\n",
       "      <td>...</td>\n",
       "    </tr>\n",
       "    <tr>\n",
       "      <th>59995</th>\n",
       "      <td>sweet_pepper_s_000390.png</td>\n",
       "      <td>[[[158, 162, 120], [118, 179, 62], [78, 165, 5...</td>\n",
       "    </tr>\n",
       "    <tr>\n",
       "      <th>59996</th>\n",
       "      <td>mourning_cloak_s_001020.png</td>\n",
       "      <td>[[[100, 121, 56], [113, 132, 72], [130, 151, 8...</td>\n",
       "    </tr>\n",
       "    <tr>\n",
       "      <th>59997</th>\n",
       "      <td>mushroom_s_001698.png</td>\n",
       "      <td>[[[24, 38, 31], [24, 40, 31], [22, 34, 28], [1...</td>\n",
       "    </tr>\n",
       "    <tr>\n",
       "      <th>59998</th>\n",
       "      <td>leopard_s_001238.png</td>\n",
       "      <td>[[[86, 90, 80], [93, 90, 75], [28, 25, 21], [4...</td>\n",
       "    </tr>\n",
       "    <tr>\n",
       "      <th>59999</th>\n",
       "      <td>rose_s_000753.png</td>\n",
       "      <td>[[[246, 246, 242], [240, 238, 232], [214, 212,...</td>\n",
       "    </tr>\n",
       "  </tbody>\n",
       "</table>\n",
       "<p>60000 rows × 2 columns</p>\n",
       "</div>"
      ],
      "text/plain": [
       "                          filename  \\\n",
       "0          bos_taurus_s_000507.png   \n",
       "1         stegosaurus_s_000125.png   \n",
       "2            mcintosh_s_000643.png   \n",
       "3           altar_boy_s_001435.png   \n",
       "4             cichlid_s_000031.png   \n",
       "...                            ...   \n",
       "59995    sweet_pepper_s_000390.png   \n",
       "59996  mourning_cloak_s_001020.png   \n",
       "59997        mushroom_s_001698.png   \n",
       "59998         leopard_s_001238.png   \n",
       "59999            rose_s_000753.png   \n",
       "\n",
       "                                                    data  \n",
       "0      [[[255, 255, 255], [255, 255, 255], [255, 255,...  \n",
       "1      [[[255, 255, 255], [253, 253, 253], [253, 253,...  \n",
       "2      [[[250, 250, 248], [248, 249, 243], [247, 248,...  \n",
       "3      [[[124, 194, 221], [131, 202, 228], [135, 206,...  \n",
       "4      [[[43, 49, 46], [32, 40, 34], [87, 89, 47], [1...  \n",
       "...                                                  ...  \n",
       "59995  [[[158, 162, 120], [118, 179, 62], [78, 165, 5...  \n",
       "59996  [[[100, 121, 56], [113, 132, 72], [130, 151, 8...  \n",
       "59997  [[[24, 38, 31], [24, 40, 31], [22, 34, 28], [1...  \n",
       "59998  [[[86, 90, 80], [93, 90, 75], [28, 25, 21], [4...  \n",
       "59999  [[[246, 246, 242], [240, 238, 232], [214, 212,...  \n",
       "\n",
       "[60000 rows x 2 columns]"
      ]
     },
     "execution_count": 2,
     "metadata": {},
     "output_type": "execute_result"
    }
   ],
   "source": [
    "def get_images():\n",
    "    data = pd.read_pickle('./../../data/cifar-100/cifar-100.pkl')\n",
    "    images = data[['filename','data']]\n",
    "    return images\n",
    "\n",
    "get_images()"
   ]
  },
  {
   "cell_type": "code",
   "execution_count": 3,
   "metadata": {},
   "outputs": [],
   "source": [
    "def get_labels():\n",
    "    data = pd.read_pickle('./../../data/cifar-100/cifar-100.pkl')\n",
    "    fine_labels = data['fine_label_str'].unique().tolist()\n",
    "    coarse_labels = data['coarse_label_str'].unique().tolist()\n",
    "    \n",
    "    return fine_labels\n",
    "\n",
    "# get_labels()"
   ]
  },
  {
   "cell_type": "code",
   "execution_count": 4,
   "metadata": {},
   "outputs": [],
   "source": [
    "def display_fn(img):\n",
    "    # ctmakro\n",
    "    # https://gist.github.com/ctmakro/3ae3cd9538390b706820cd01dac6861f\n",
    "    _, ret = cv2.imencode('.jpg', img)\n",
    "    i = Image(data=ret)\n",
    "    display(i)"
   ]
  },
  {
   "cell_type": "code",
   "execution_count": 5,
   "metadata": {},
   "outputs": [
    {
     "data": {
      "application/vnd.jupyter.widget-view+json": {
       "model_id": "731c179ac49443acb0518d5138cbd3b0",
       "version_major": 2,
       "version_minor": 0
      },
      "text/plain": [
       "HTML(value='0 examples annotated, 60001 examples left')"
      ]
     },
     "metadata": {},
     "output_type": "display_data"
    },
    {
     "data": {
      "application/vnd.jupyter.widget-view+json": {
       "model_id": "b4c871f739f244799ddb2b28dd54a6b7",
       "version_major": 2,
       "version_minor": 0
      },
      "text/plain": [
       "Dropdown(options=('cattle', 'dinosaur', 'apple', 'boy', 'aquarium_fish', 'telephone', 'train', 'cup', 'cloud',…"
      ]
     },
     "metadata": {},
     "output_type": "display_data"
    },
    {
     "data": {
      "application/vnd.jupyter.widget-view+json": {
       "model_id": "d143b00dd62d433c8ad4cd4b5f011964",
       "version_major": 2,
       "version_minor": 0
      },
      "text/plain": [
       "HBox(children=(Button(description='submit', style=ButtonStyle()), Button(description='skip', style=ButtonStyle…"
      ]
     },
     "metadata": {},
     "output_type": "display_data"
    },
    {
     "data": {
      "application/vnd.jupyter.widget-view+json": {
       "model_id": "eb62110b0e184ac4a1a9c7e201a59bb0",
       "version_major": 2,
       "version_minor": 0
      },
      "text/plain": [
       "Output()"
      ]
     },
     "metadata": {},
     "output_type": "display_data"
    },
    {
     "name": "stdout",
     "output_type": "stream",
     "text": [
      "                  filename annotation\n",
      "0  bos_taurus_s_000507.png     cattle\n"
     ]
    }
   ],
   "source": [
    "annotations = pigeon.annotate(examples=get_images(),\n",
    "                              options=get_labels(),\n",
    "                              shuffle=False,\n",
    "                              include_skip=True,\n",
    "                              display_fn=display_fn)"
   ]
  }
 ],
 "metadata": {
  "kernelspec": {
   "display_name": "Python 3",
   "language": "python",
   "name": "python3"
  },
  "language_info": {
   "codemirror_mode": {
    "name": "ipython",
    "version": 3
   },
   "file_extension": ".py",
   "mimetype": "text/x-python",
   "name": "python",
   "nbconvert_exporter": "python",
   "pygments_lexer": "ipython3",
   "version": "3.7.5"
  }
 },
 "nbformat": 4,
 "nbformat_minor": 1
}
