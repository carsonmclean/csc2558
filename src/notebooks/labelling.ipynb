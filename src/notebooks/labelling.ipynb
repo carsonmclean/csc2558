{
 "cells": [
  {
   "cell_type": "code",
   "execution_count": 1,
   "metadata": {
    "pycharm": {
     "is_executing": false
    }
   },
   "outputs": [],
   "source": [
    "# !jt -t oceans16 -TN -kl -cellw 90% -ofs 12\n",
    "import lib.utils as utils"
   ]
  },
  {
   "cell_type": "markdown",
   "metadata": {},
   "source": [
    "| Superclass | Classes |\n",
    "|------------------------------:|------------------------------------------------------:|\n",
    "| Acquatic Mammals | beaver, dolphin, otter, seal, whale |\n",
    "| Fish | aquarium fish, flatfish, ray, shark, trout |\n",
    "| Flowers | orchids, poppies, roses, sunflowers, tulips |\n",
    "| Food Containers | bottles, bowls, cans, cups, plates |\n",
    "| Fruit and Vegetables | apples, mushrooms, oranges, pears, sweet peppers |\n",
    "| Household Electrical Devices | clock, computer keyboard, lamp, telephone, television |\n",
    "| Household Furniture | bed, chair, couch, table, wardrobe |\n",
    "| Insects | bee, beetle, butterfly, caterpillar, cockroach |\n",
    "| Large Carnivores | bear, leopard, lion, tiger, wolf |\n",
    "| Large Man-made Outdoor Scenes | bridge, castle, house, road, skyscraper |\n",
    "| Large Natural Outdoor Scenes | cloud, forest, mountain, plain, sea |\n",
    "| Large Omnivores and Herbivoes | camel, cattle, chimpanzee, elephant, kangaroo |\n",
    "| Medium-sized Animals | fox, porcupine, possum, raccoon, skunk |\n",
    "| Non-insect Invertebrates | crab, lobster, snail, spider, worm |\n",
    "| People | baby, boy, girl, man, woman |\n",
    "| Reptiles | crocodile, dinosaur, lizard, snake, turtle |\n",
    "| Small Mammals | hamster, mouse, rabbit, shrew, squirrel |\n",
    "| Trees | maple, oak, palm, pine, willow |\n",
    "| Vehicles 1 | bicycle, bus, motorcycle, pickup truck, train |\n",
    "| Vehicles 2 | lawn-mower, rocket, streetcar, tank, tractor |"
   ]
  },
  {
   "cell_type": "code",
   "execution_count": 2,
   "metadata": {},
   "outputs": [
    {
     "data": {
      "application/vnd.jupyter.widget-view+json": {
       "model_id": "fade0cfe96034f54bd5987ca91ebbaff",
       "version_major": 2,
       "version_minor": 0
      },
      "text/plain": [
       "Text(value='', continuous_update=False, description='Name:')"
      ]
     },
     "metadata": {},
     "output_type": "display_data"
    },
    {
     "data": {
      "application/vnd.jupyter.widget-view+json": {
       "model_id": "f63ee688d1cd4b339d00a53f53bdac8f",
       "version_major": 2,
       "version_minor": 0
      },
      "text/plain": [
       "HBox(children=(Button(description='fish', layout=Layout(height='40px', width='220px'), style=ButtonStyle(font_…"
      ]
     },
     "metadata": {},
     "output_type": "display_data"
    },
    {
     "data": {
      "application/vnd.jupyter.widget-view+json": {
       "model_id": "f21a701ea5e1428c9d73c7f8256c6d69",
       "version_major": 2,
       "version_minor": 0
      },
      "text/plain": [
       "HBox(children=(Button(description='medium_mammals', layout=Layout(height='40px', width='220px'), style=ButtonS…"
      ]
     },
     "metadata": {},
     "output_type": "display_data"
    },
    {
     "data": {
      "application/vnd.jupyter.widget-view+json": {
       "model_id": "d1c76f44ddd243758b756392b28db0e4",
       "version_major": 2,
       "version_minor": 0
      },
      "text/plain": [
       "Output()"
      ]
     },
     "metadata": {},
     "output_type": "display_data"
    }
   ],
   "source": [
    "experiment = utils.Experiment()\n",
    "experiment.run()"
   ]
  }
 ],
 "metadata": {
  "kernelspec": {
   "display_name": "Python 3",
   "language": "python",
   "name": "python3"
  },
  "language_info": {
   "codemirror_mode": {
    "name": "ipython",
    "version": 3
   },
   "file_extension": ".py",
   "mimetype": "text/x-python",
   "name": "python",
   "nbconvert_exporter": "python",
   "pygments_lexer": "ipython3",
   "version": "3.7.5"
  }
 },
 "nbformat": 4,
 "nbformat_minor": 1
}
